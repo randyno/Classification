{
  "nbformat": 4,
  "nbformat_minor": 0,
  "metadata": {
    "colab": {
      "provenance": [],
      "authorship_tag": "ABX9TyMt+dz0sclb3q3Dmrgiyeda",
      "include_colab_link": true
    },
    "kernelspec": {
      "name": "python3",
      "display_name": "Python 3"
    },
    "language_info": {
      "name": "python"
    }
  },
  "cells": [
    {
      "cell_type": "markdown",
      "metadata": {
        "id": "view-in-github",
        "colab_type": "text"
      },
      "source": [
        "<a href=\"https://colab.research.google.com/github/randyno/Classification/blob/main/Neural_Network.ipynb\" target=\"_parent\"><img src=\"https://colab.research.google.com/assets/colab-badge.svg\" alt=\"Open In Colab\"/></a>"
      ]
    },
    {
      "cell_type": "markdown",
      "source": [
        "##Setting version"
      ],
      "metadata": {
        "id": "2ZDI59tny97I"
      }
    },
    {
      "cell_type": "code",
      "execution_count": 1,
      "metadata": {
        "colab": {
          "base_uri": "https://localhost:8080/"
        },
        "id": "6o19_MkQuRC1",
        "outputId": "a08cfac0-707b-475f-df36-8065672f3d6c"
      },
      "outputs": [
        {
          "output_type": "stream",
          "name": "stdout",
          "text": [
            "Colab only includes TensorFlow 2.x; %tensorflow_version has no effect.\n"
          ]
        }
      ],
      "source": [
        "%tensorflow_version 2.x"
      ]
    },
    {
      "cell_type": "markdown",
      "source": [
        "##Imports"
      ],
      "metadata": {
        "id": "0fsoY_zry2XA"
      }
    },
    {
      "cell_type": "code",
      "source": [
        "import tensorflow as tf\n",
        "import pandas as pd\n",
        "import numpy as np\n",
        "from tensorflow import keras"
      ],
      "metadata": {
        "id": "fgBqwBXtvJ1i"
      },
      "execution_count": 2,
      "outputs": []
    },
    {
      "cell_type": "code",
      "source": [
        "import matplotlib.pyplot as plt"
      ],
      "metadata": {
        "id": "Dv7ea8H8z_ZF"
      },
      "execution_count": 12,
      "outputs": []
    },
    {
      "cell_type": "markdown",
      "source": [
        "##Gathering Data"
      ],
      "metadata": {
        "id": "mAo6eLGHzGFw"
      }
    },
    {
      "cell_type": "code",
      "source": [
        "fashion_Dset = keras.datasets.fashion_mnist\n",
        "((train_data, train_label), (test_data, test_label)) = fashion_Dset.load_data()\n"
      ],
      "metadata": {
        "colab": {
          "base_uri": "https://localhost:8080/"
        },
        "id": "b5-jfglnxFVy",
        "outputId": "a7e0fb4e-4bbf-4f03-e440-c212f73417be"
      },
      "execution_count": 6,
      "outputs": [
        {
          "output_type": "stream",
          "name": "stdout",
          "text": [
            "Downloading data from https://storage.googleapis.com/tensorflow/tf-keras-datasets/train-labels-idx1-ubyte.gz\n",
            "29515/29515 [==============================] - 0s 0us/step\n",
            "Downloading data from https://storage.googleapis.com/tensorflow/tf-keras-datasets/train-images-idx3-ubyte.gz\n",
            "26421880/26421880 [==============================] - 0s 0us/step\n",
            "Downloading data from https://storage.googleapis.com/tensorflow/tf-keras-datasets/t10k-labels-idx1-ubyte.gz\n",
            "5148/5148 [==============================] - 0s 0us/step\n",
            "Downloading data from https://storage.googleapis.com/tensorflow/tf-keras-datasets/t10k-images-idx3-ubyte.gz\n",
            "4422102/4422102 [==============================] - 0s 0us/step\n"
          ]
        }
      ]
    },
    {
      "cell_type": "code",
      "source": [
        "class_names= ['Tshirt','Trouser','Pullover','Dress','Coat','Sandal','Shirt','Sneaker','Bag','Ankle boot']\n",
        "len(class_names)"
      ],
      "metadata": {
        "colab": {
          "base_uri": "https://localhost:8080/"
        },
        "id": "S7oCp8Dw3cz0",
        "outputId": "4d1aed7f-c23c-4285-ef7a-a6c8913da22e"
      },
      "execution_count": 67,
      "outputs": [
        {
          "output_type": "execute_result",
          "data": {
            "text/plain": [
              "10"
            ]
          },
          "metadata": {},
          "execution_count": 67
        }
      ]
    },
    {
      "cell_type": "markdown",
      "source": [
        "##Understanding data"
      ],
      "metadata": {
        "id": "F9AYzrVP0nsf"
      }
    },
    {
      "cell_type": "code",
      "source": [
        "a= np.array([0,2,3,4,1])\n",
        "a.argsort()\n",
        "def values(a:np.array):\n",
        "  l=[]\n",
        "  for el in a:\n",
        "    if el not in l:\n",
        "      l.append(el)\n",
        "  return l\n",
        "values(train_label)"
      ],
      "metadata": {
        "colab": {
          "base_uri": "https://localhost:8080/"
        },
        "id": "pb7ax1P2zLRJ",
        "outputId": "ea46f0f4-3a28-4036-e3ae-bc33449aadf4"
      },
      "execution_count": 38,
      "outputs": [
        {
          "output_type": "execute_result",
          "data": {
            "text/plain": [
              "[9, 0, 3, 2, 7, 5, 1, 6, 4, 8]"
            ]
          },
          "metadata": {},
          "execution_count": 38
        }
      ]
    },
    {
      "cell_type": "code",
      "source": [
        "train_data[0].shape\n",
        "train_data[0].mean()"
      ],
      "metadata": {
        "colab": {
          "base_uri": "https://localhost:8080/"
        },
        "id": "itQ_hEm1ymVG",
        "outputId": "dd7ab48f-3a6f-4a6e-cc3a-2826613fd3d4"
      },
      "execution_count": 17,
      "outputs": [
        {
          "output_type": "execute_result",
          "data": {
            "text/plain": [
              "0.3813875550220088"
            ]
          },
          "metadata": {},
          "execution_count": 17
        }
      ]
    },
    {
      "cell_type": "markdown",
      "source": [
        "##Plots\n"
      ],
      "metadata": {
        "id": "ZpMjDiOTz4-O"
      }
    },
    {
      "cell_type": "code",
      "source": [
        "def display(x:int,data = train_data):\n",
        "  plt.figure()\n",
        "  plt.imshow(data[x])\n",
        "#plt.colorbar()\n",
        "#plt.grid(True)\n",
        "  plt.show()\n",
        "display(0)"
      ],
      "metadata": {
        "colab": {
          "base_uri": "https://localhost:8080/",
          "height": 430
        },
        "id": "wkuhXAjLzeV6",
        "outputId": "7d97d55a-df3f-41c9-d58b-90034be70bfc"
      },
      "execution_count": 72,
      "outputs": [
        {
          "output_type": "display_data",
          "data": {
            "text/plain": [
              "<Figure size 640x480 with 1 Axes>"
            ],
            "image/png": "[encoded data removed]"
          },
          "metadata": {}
        }
      ]
    },
    {
      "cell_type": "markdown",
      "source": [
        "##Cretaing the Model\n"
      ],
      "metadata": {
        "id": "bpUcKCaJ0ivt"
      }
    },
    {
      "cell_type": "markdown",
      "source": [
        "####      Preprocessing data"
      ],
      "metadata": {
        "id": "Ldv7dFO40thL"
      }
    },
    {
      "cell_type": "code",
      "source": [
        "train_data = train_data/255\n",
        "test_data =test_data/255\n",
        "# each value in theses matrix is between 0 and 255"
      ],
      "metadata": {
        "id": "EbSUUohO0mUL"
      },
      "execution_count": 15,
      "outputs": []
    },
    {
      "cell_type": "markdown",
      "source": [
        "#### Model"
      ],
      "metadata": {
        "id": "JfH6_jSu1cxA"
      }
    },
    {
      "cell_type": "code",
      "source": [
        "Model = keras.Sequential([\n",
        "    keras.layers.Flatten(input_shape = (28,28)), #input layer (1)\n",
        "    keras.layers.Dense(128,activation = 'relu'), #hidden layer (2)\n",
        "    keras.layers.Dense(10,activation = 'softmax'), #output layer (3) there are 10 diferent types in the train label list\n",
        "])\n",
        "''' softmax makes sure the values are between 0 and 1'''"
      ],
      "metadata": {
        "id": "AxrC-gjA1atj"
      },
      "execution_count": 39,
      "outputs": []
    },
    {
      "cell_type": "code",
      "source": [
        "Model.compile( optimizer = 'adam',\n",
        "              loss = 'sparse_categorical_crossentropy',\n",
        "              metrics = ['accuracy'])"
      ],
      "metadata": {
        "id": "6k2dUK681FI3"
      },
      "execution_count": 44,
      "outputs": []
    },
    {
      "cell_type": "code",
      "source": [
        "'''Hyper parameters tunning is changing values of the hyper parameters with the aim of discover how it will work\n",
        " the said parameters are the loss, the number of hidden layers...'''"
      ],
      "metadata": {
        "id": "qu-zPhZv67qB"
      },
      "execution_count": null,
      "outputs": []
    },
    {
      "cell_type": "markdown",
      "source": [
        "epochs represents how many times the model will see the data."
      ],
      "metadata": {
        "id": "h7XXWfZW_ffk"
      }
    },
    {
      "cell_type": "code",
      "source": [
        "Model.fit(train_data,train_label,epochs=10) \n",
        "#Model.fit(train_data,train_label,epochs=1) low accuracy"
      ],
      "metadata": {
        "id": "IWucVoxN7maT"
      },
      "execution_count": null,
      "outputs": []
    },
    {
      "cell_type": "markdown",
      "source": [
        "####Testing the model"
      ],
      "metadata": {
        "id": "l5Hjs1-s_6ST"
      }
    },
    {
      "cell_type": "code",
      "source": [
        "test_loss, test_acc = Model.evaluate(test_data,test_label,verbose = 1)\n",
        "\n",
        "print(\"Test accuracy\", test_acc*100)"
      ],
      "metadata": {
        "colab": {
          "base_uri": "https://localhost:8080/"
        },
        "id": "YvlVqQED9nSl",
        "outputId": "a2771477-a9f1-4c68-9178-9d58113dcd2f"
      },
      "execution_count": 51,
      "outputs": [
        {
          "output_type": "stream",
          "name": "stdout",
          "text": [
            "313/313 [==============================] - 1s 2ms/step - loss: 0.3742 - accuracy: 0.8766\n",
            "Test accuracy 87.66000270843506\n"
          ]
        }
      ]
    },
    {
      "cell_type": "markdown",
      "source": [
        "The first training accuracy (10 epochs) was 91% whereas the test accuracy is lower: 88%. we'd like to have the best accuracy possible. thats why we start tunning the **hyper parameters of the model**\n",
        "Hyper parameters are the one we can modify once the model has been tested and fitted. There are epochs, the number of hidden layers\n"
      ],
      "metadata": {
        "id": "hEPTDnPs-V1Z"
      }
    },
    {
      "cell_type": "markdown",
      "source": [
        "##Predictions"
      ],
      "metadata": {
        "id": "GzqpPdptCGgk"
      }
    },
    {
      "cell_type": "code",
      "source": [
        "prediction = Model.predict(test_data[0:1])\n",
        "print(class_names[np.argmax(prediction)])"
      ],
      "metadata": {
        "colab": {
          "base_uri": "https://localhost:8080/"
        },
        "id": "k69ji0DE-FqM",
        "outputId": "6a63b1a0-6fbb-44a5-bc8a-df7aaf68d53f"
      },
      "execution_count": 70,
      "outputs": [
        {
          "output_type": "stream",
          "name": "stdout",
          "text": [
            "1/1 [==============================] - 0s 24ms/step\n",
            "Ankle boot\n"
          ]
        }
      ]
    },
    {
      "cell_type": "code",
      "source": [
        "display(0,data = test_data)"
      ],
      "metadata": {
        "colab": {
          "base_uri": "https://localhost:8080/",
          "height": 430
        },
        "id": "ApY44QrxDAaR",
        "outputId": "ecda5d7b-8f89-4deb-8367-4e727100e55c"
      },
      "execution_count": 73,
      "outputs": [
        {
          "output_type": "display_data",
          "data": {
            "text/plain": [
              "<Figure size 640x480 with 1 Axes>"
            ],
            "image/png": "[encoded data removed]"
          },
          "metadata": {}
        }
      ]
    },
    {
      "cell_type": "code",
      "source": [
        "train_data.shape"
      ],
      "metadata": {
        "colab": {
          "base_uri": "https://localhost:8080/"
        },
        "id": "Bk_YZZO_DUKa",
        "outputId": "7ef14e58-82d4-45bf-f1ea-76d12c044929"
      },
      "execution_count": 61,
      "outputs": [
        {
          "output_type": "execute_result",
          "data": {
            "text/plain": [
              "(60000, 28, 28)"
            ]
          },
          "metadata": {},
          "execution_count": 61
        }
      ]
    },
    {
      "cell_type": "code",
      "source": [],
      "metadata": {
        "id": "h9heKKVnDXV-"
      },
      "execution_count": null,
      "outputs": []
    }
  ]
}